{
  "nbformat": 4,
  "nbformat_minor": 0,
  "metadata": {
    "colab": {
      "provenance": [],
      "gpuType": "T4",
      "authorship_tag": "ABX9TyP0/OC31pcLYUA4+3Cj+zXj",
      "include_colab_link": true
    },
    "kernelspec": {
      "name": "python3",
      "display_name": "Python 3"
    },
    "language_info": {
      "name": "python"
    },
    "accelerator": "GPU"
  },
  "cells": [
    {
      "cell_type": "markdown",
      "metadata": {
        "id": "view-in-github",
        "colab_type": "text"
      },
      "source": [
        "<a href=\"https://colab.research.google.com/github/asmit1624/Blinkit-analysis-/blob/main/Untitled6.ipynb\" target=\"_parent\"><img src=\"https://colab.research.google.com/assets/colab-badge.svg\" alt=\"Open In Colab\"/></a>"
      ]
    },
    {
      "cell_type": "code",
      "execution_count": 2,
      "metadata": {
        "id": "_zVZtt4xBfKK"
      },
      "outputs": [],
      "source": [
        "from tensorflow.keras.preprocessing.image import ImageDataGenerator\n"
      ]
    },
    {
      "cell_type": "markdown",
      "source": [
        "# New Section"
      ],
      "metadata": {
        "id": "o3WH0P2GBj-f"
      }
    },
    {
      "cell_type": "code",
      "source": [],
      "metadata": {
        "id": "hC3X8EpZasEn"
      },
      "execution_count": null,
      "outputs": []
    },
    {
      "cell_type": "code",
      "source": [
        "img=image.load_img(r\"/content/download.jpeg\", target_size=(200,200))"
      ],
      "metadata": {
        "id": "IblwHeDWZp9r"
      },
      "execution_count": 5,
      "outputs": []
    },
    {
      "cell_type": "code",
      "source": [
        "datagen = ImageDataGenerator(rotation_range=30, shear_range=0.2, zoom_range=0.2, horizontal_flip=True,width_shift_range=0.2, height_shift_range=0.2\n",
        "                             )"
      ],
      "metadata": {
        "id": "UDWXG_dgZqb7"
      },
      "execution_count": 6,
      "outputs": []
    },
    {
      "cell_type": "code",
      "source": [
        "img=image.img_to_array(img)"
      ],
      "metadata": {
        "id": "4TntC3WRbkeD"
      },
      "execution_count": 8,
      "outputs": []
    },
    {
      "cell_type": "code",
      "source": [
        "input_batch =img.reshape(1,200,200,3)"
      ],
      "metadata": {
        "id": "ohUveVVXbE6e"
      },
      "execution_count": 9,
      "outputs": []
    },
    {
      "cell_type": "code",
      "source": [],
      "metadata": {
        "id": "b747UJWtchMb"
      },
      "execution_count": 11,
      "outputs": []
    },
    {
      "cell_type": "code",
      "source": [
        "import os\n",
        "\n",
        "# Make sure the directory exists\n",
        "os.makedirs(\"asd\", exist_ok=True)\n",
        "\n",
        "# Now run your loop\n",
        "i = 0\n",
        "for output in datagen.flow(input_batch, batch_size=1, save_to_dir=\"asd\", save_prefix=\"aug\", save_format=\"png\"):\n",
        "    i += 1\n",
        "    if i == 10:   # generate 10 augmented images\n",
        "        break\n"
      ],
      "metadata": {
        "id": "jBxS95VhbOEe"
      },
      "execution_count": 12,
      "outputs": []
    },
    {
      "cell_type": "code",
      "source": [],
      "metadata": {
        "id": "MPUPC9kqcF_C"
      },
      "execution_count": null,
      "outputs": []
    }
  ]
}